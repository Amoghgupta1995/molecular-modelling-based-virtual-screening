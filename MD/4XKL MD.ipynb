{
 "cells": [
  {
   "cell_type": "code",
   "execution_count": null,
   "id": "3c0e40ef",
   "metadata": {},
   "outputs": [],
   "source": [
    "from pdbfixer import PDBFixer\n",
    "from openmm.app import PDBFile"
   ]
  },
  {
   "cell_type": "code",
   "execution_count": null,
   "id": "85414aa5",
   "metadata": {},
   "outputs": [],
   "source": [
    "fixer = PDBFixer(\"./4xkl.pdb\")"
   ]
  },
  {
   "cell_type": "code",
   "execution_count": null,
   "id": "8029b630",
   "metadata": {},
   "outputs": [],
   "source": [
    "for chain in list(fixer.topology.chains()):\n",
    "    print(chain.id)"
   ]
  },
  {
   "cell_type": "code",
   "execution_count": null,
   "id": "7a299430",
   "metadata": {
    "scrolled": true
   },
   "outputs": [],
   "source": [
    "fixer.removeChains([2, 3, 4, 6, 7, 8, 9, 10, 11])\n",
    "fixer.findMissingResidues()\n",
    "\n",
    "\n",
    "# only add missing residues in the middle of the chain, do not add terminal ones\n",
    "chains = list(fixer.topology.chains())\n",
    "keys = fixer.missingResidues.keys()\n",
    "missingResidues = dict()\n",
    "for key in keys:\n",
    "    chain = chains[key[0]]\n",
    "    if not (key[1] == 0 or key[1] == len(list(chain.residues()))):\n",
    "        missingResidues[key] = fixer.missingResidues[key]\n",
    "fixer.missingResidues = missingResidues\n",
    "\n",
    "\n",
    "fixer.findMissingAtoms()\n",
    "fixer.addMissingAtoms()\n",
    "\n",
    "\n",
    "PDBFile.writeFile(fixer.topology, fixer.positions, open(\"4xkl_fixed.pdb\", 'w'))"
   ]
  },
  {
   "cell_type": "code",
   "execution_count": null,
   "id": "a53705d2",
   "metadata": {},
   "outputs": [],
   "source": [
    "from openmm import app, unit\n",
    "\n",
    "pdb = app.PDBFile(\"4xkl_fixed.pdb\")\n",
    "forcefield = app.ForceField('amber14-all.xml', 'amber14/tip3pfb.xml')"
   ]
  },
  {
   "cell_type": "code",
   "execution_count": null,
   "id": "bf5bd73e",
   "metadata": {},
   "outputs": [],
   "source": [
    "# use app.Modeller to add hydrogens and solvent\n",
    "modeller = app.Modeller(pdb.topology, pdb.positions)"
   ]
  },
  {
   "cell_type": "code",
   "execution_count": null,
   "id": "fa04dbcb",
   "metadata": {},
   "outputs": [],
   "source": [
    "# delete acetate ions\n",
    "toDelete = [r for r in pdb.topology.residues() if r.name == \"ACT\"]\n",
    "modeller.delete(toDelete)"
   ]
  },
  {
   "cell_type": "code",
   "execution_count": null,
   "id": "402e842d",
   "metadata": {},
   "outputs": [],
   "source": [
    "# use app.Modeller to add hydrogens and solvent\n",
    "modeller.addHydrogens(forcefield)\n",
    "modeller.addSolvent(forcefield, model='tip3p', padding=1.0*unit.nanometers)\n",
    "app.PDBFile.writeFile(modeller.topology, modeller.positions, open(\"4xkl_modeller_tip3p.pdb\", 'w'))"
   ]
  },
  {
   "cell_type": "code",
   "execution_count": null,
   "id": "aaa95bbf",
   "metadata": {},
   "outputs": [],
   "source": []
  },
  {
   "cell_type": "code",
   "execution_count": null,
   "id": "abbacc01",
   "metadata": {},
   "outputs": [],
   "source": []
  },
  {
   "cell_type": "code",
   "execution_count": null,
   "id": "bcc7ced5",
   "metadata": {},
   "outputs": [],
   "source": []
  }
 ],
 "metadata": {
  "kernelspec": {
   "display_name": "Python 3",
   "language": "python",
   "name": "python3"
  },
  "language_info": {
   "codemirror_mode": {
    "name": "ipython",
    "version": 3
   },
   "file_extension": ".py",
   "mimetype": "text/x-python",
   "name": "python",
   "nbconvert_exporter": "python",
   "pygments_lexer": "ipython3",
   "version": "3.9.13"
  }
 },
 "nbformat": 4,
 "nbformat_minor": 5
}
